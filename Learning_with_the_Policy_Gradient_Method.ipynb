{
 "cells": [
  {
   "cell_type": "markdown",
   "metadata": {},
   "source": [
    "# Learning with Policy Gradient\n",
    "\n",
    "I've chosen to use keras instead of tf-slim."
   ]
  },
  {
   "cell_type": "code",
   "execution_count": 4,
   "metadata": {
    "collapsed": true
   },
   "outputs": [],
   "source": [
    "import tensorflow as tf\n",
    "from tensorflow.contrib.keras.api.keras.layers import Input, Dense\n",
    "from tensorflow.contrib.keras.api.keras.models import Model\n",
    "\n",
    "import numpy as np\n",
    "import gym\n",
    "import matplotlib.pyplot as plt\n",
    "%matplotlib inline"
   ]
  },
  {
   "cell_type": "code",
   "execution_count": 5,
   "metadata": {},
   "outputs": [
    {
     "name": "stderr",
     "output_type": "stream",
     "text": [
      "[2017-11-28 16:04:01,418] Making new env: CartPole-v0\n"
     ]
    }
   ],
   "source": [
    "env = gym.make('CartPole-v0')"
   ]
  },
  {
   "cell_type": "markdown",
   "metadata": {},
   "source": [
    "### Reward function"
   ]
  },
  {
   "cell_type": "code",
   "execution_count": 6,
   "metadata": {
    "collapsed": true
   },
   "outputs": [],
   "source": [
    "gamma = 0.99\n",
    "\n",
    "def discounted_rewards(r):\n",
    "    # Create a new array for the discounted values\n",
    "    discounted_r = np.zeros_like(r)\n",
    "    running_add = 0\n",
    "    # Traverse the list in reverse order.\n",
    "    # Add the rewards together based on future actions * discout\n",
    "    for t in reversed(range(len(r))):\n",
    "        running_add = running_add * gamma + r[t]\n",
    "        discounted_r[t] = running_add\n",
    "    return discounted_r"
   ]
  },
  {
   "cell_type": "markdown",
   "metadata": {},
   "source": [
    "### Agent"
   ]
  },
  {
   "cell_type": "code",
   "execution_count": 33,
   "metadata": {},
   "outputs": [],
   "source": [
    "class Agent:\n",
    "    \n",
    "    def __init__(self, learning_rate, state_size, action_size, neurons):\n",
    "        # Set up the policy gradient network.\n",
    "        # Mapping state -> action\n",
    "        self.input = tf.placeholder(shape=[None, state_size],dtype=tf.float32)\n",
    "        hidden = Dense(neurons, activation='relu')(self.input)\n",
    "        self.output = Dense(action_size, activation='softmax')(hidden)\n",
    "        self.chosen_action = tf.argmax(self.output, 1)\n",
    "        \n",
    "        # Setup the training procedur for the network.\n",
    "        # Because this is RL we need to define our loss manually.\n",
    "        # Reward holder is the discounted reward for the action.\n",
    "        self.reward_holder = tf.placeholder(shape=[None], dtype=tf.float32)\n",
    "        #\n",
    "        # Action holder contains the \n",
    "        self.action_holder = tf.placeholder(shape=[None], dtype=tf.int32)\n",
    "\n",
    "        # Indices contains [0 .. batch_size] * nbr_actions + selected_action\n",
    "        self.indicies = tf.range(0, tf.shape(self.output)[0]) * tf.shape(self.output)[1] + self.action_holder\n",
    "        \n",
    "        # Flatten output into 1D\n",
    "        flat_output = tf.reshape(self.output, [-1])\n",
    "        \n",
    "        # Collect the outputs from flat_out according to incidies to\n",
    "        # create a vector containing all the probabilities for all selected actions\n",
    "        self.responisble_outputs = tf.gather(flat_output, self.indicies)\n",
    "        \n",
    "        # Setup the loss as log(p(x)) * reward\n",
    "        l = tf.log(self.responisble_outputs) * self.reward_holder\n",
    "        \n",
    "        # Minimize mean of all\n",
    "        self.loss = -tf.reduce_mean(l)\n",
    "        \n",
    "        # Get all trainable variables\n",
    "        trainable = tf.trainable_variables()\n",
    "        \n",
    "        # Iterate over each variable and create a variable for\n",
    "        # each trainable variable's gradient\n",
    "        self.gradient_holders = []\n",
    "        for idx, var in enumerate(trainable):\n",
    "            placeholder = tf.placeholder(dtype=tf.float32, name='%d_holder' % idx)\n",
    "            self.gradient_holders.append(placeholder)\n",
    "        \n",
    "        # Setup the update_batch variable\n",
    "        self.gradients = tf.gradients(self.loss, trainable)\n",
    "        optimizer = tf.train.AdamOptimizer(learning_rate=learning_rate)\n",
    "        self.update_batch = optimizer.apply_gradients(zip(self.gradient_holders, trainable))\n",
    "        \n",
    "        "
   ]
  },
  {
   "cell_type": "code",
   "execution_count": 44,
   "metadata": {},
   "outputs": [
    {
     "name": "stderr",
     "output_type": "stream",
     "text": [
      "/home/lgartner/dev/learning-deep-rl/venv/lib/python3.5/site-packages/tensorflow/python/ops/gradients_impl.py:95: UserWarning: Converting sparse IndexedSlices to a dense Tensor of unknown shape. This may consume a large amount of memory.\n",
      "  \"Converting sparse IndexedSlices to a dense Tensor of unknown shape. \"\n"
     ]
    },
    {
     "name": "stdout",
     "output_type": "stream",
     "text": [
      "Mean reward:  22.0\n",
      "Mean reward:  22.38\n",
      "Mean reward:  27.61\n",
      "Mean reward:  35.96\n",
      "Mean reward:  52.26\n",
      "Mean reward:  65.25\n",
      "Mean reward:  94.88\n",
      "Mean reward:  128.69\n",
      "Mean reward:  177.42\n",
      "Mean reward:  182.45\n",
      "Mean reward:  155.45\n",
      "Mean reward:  171.28\n",
      "Mean reward:  115.6\n",
      "Mean reward:  113.93\n",
      "Mean reward:  167.25\n",
      "Mean reward:  198.9\n",
      "Mean reward:  190.94\n",
      "Mean reward:  171.21\n"
     ]
    },
    {
     "ename": "KeyboardInterrupt",
     "evalue": "",
     "output_type": "error",
     "traceback": [
      "\u001b[0;31m---------------------------------------------------------------------------\u001b[0m",
      "\u001b[0;31mKeyboardInterrupt\u001b[0m                         Traceback (most recent call last)",
      "\u001b[0;32m<ipython-input-44-665275eaa279>\u001b[0m in \u001b[0;36m<module>\u001b[0;34m()\u001b[0m\n\u001b[1;32m     27\u001b[0m             \u001b[0;31m# Sample action from our network\u001b[0m\u001b[0;34m\u001b[0m\u001b[0;34m\u001b[0m\u001b[0m\n\u001b[1;32m     28\u001b[0m             \u001b[0mactions\u001b[0m \u001b[0;34m=\u001b[0m \u001b[0msess\u001b[0m\u001b[0;34m.\u001b[0m\u001b[0mrun\u001b[0m\u001b[0;34m(\u001b[0m\u001b[0magent\u001b[0m\u001b[0;34m.\u001b[0m\u001b[0moutput\u001b[0m\u001b[0;34m,\u001b[0m \u001b[0mfeed_dict\u001b[0m\u001b[0;34m=\u001b[0m\u001b[0;34m{\u001b[0m\u001b[0magent\u001b[0m\u001b[0;34m.\u001b[0m\u001b[0minput\u001b[0m\u001b[0;34m:\u001b[0m\u001b[0;34m[\u001b[0m\u001b[0ms\u001b[0m\u001b[0;34m]\u001b[0m\u001b[0;34m}\u001b[0m\u001b[0;34m)\u001b[0m\u001b[0;34m\u001b[0m\u001b[0m\n\u001b[0;32m---> 29\u001b[0;31m             \u001b[0ma_idx\u001b[0m \u001b[0;34m=\u001b[0m \u001b[0mnp\u001b[0m\u001b[0;34m.\u001b[0m\u001b[0mrandom\u001b[0m\u001b[0;34m.\u001b[0m\u001b[0mchoice\u001b[0m\u001b[0;34m(\u001b[0m\u001b[0mrange\u001b[0m\u001b[0;34m(\u001b[0m\u001b[0mlen\u001b[0m\u001b[0;34m(\u001b[0m\u001b[0mactions\u001b[0m\u001b[0;34m[\u001b[0m\u001b[0;36m0\u001b[0m\u001b[0;34m]\u001b[0m\u001b[0;34m)\u001b[0m\u001b[0;34m)\u001b[0m\u001b[0;34m,\u001b[0m \u001b[0mp\u001b[0m\u001b[0;34m=\u001b[0m\u001b[0mactions\u001b[0m\u001b[0;34m[\u001b[0m\u001b[0;36m0\u001b[0m\u001b[0;34m]\u001b[0m\u001b[0;34m)\u001b[0m\u001b[0;34m\u001b[0m\u001b[0m\n\u001b[0m\u001b[1;32m     30\u001b[0m \u001b[0;34m\u001b[0m\u001b[0m\n\u001b[1;32m     31\u001b[0m             \u001b[0ms1\u001b[0m\u001b[0;34m,\u001b[0m \u001b[0mr\u001b[0m\u001b[0;34m,\u001b[0m \u001b[0mdone\u001b[0m\u001b[0;34m,\u001b[0m \u001b[0m_\u001b[0m \u001b[0;34m=\u001b[0m \u001b[0menv\u001b[0m\u001b[0;34m.\u001b[0m\u001b[0mstep\u001b[0m\u001b[0;34m(\u001b[0m\u001b[0ma_idx\u001b[0m\u001b[0;34m)\u001b[0m\u001b[0;34m\u001b[0m\u001b[0m\n",
      "\u001b[0;31mKeyboardInterrupt\u001b[0m: "
     ]
    }
   ],
   "source": [
    "# Clear tensorflow graph\n",
    "tf.reset_default_graph()\n",
    "\n",
    "agent = Agent(1e-2, 4, 2, 8) #Load the agent.\n",
    "total_episodes = 5000\n",
    "max_ep = 999\n",
    "update_frequency = 5 # Batch size\n",
    "\n",
    "init = tf.global_variables_initializer()\n",
    "\n",
    "with tf.Session() as sess:\n",
    "    sess.run(init)\n",
    "    i = 0\n",
    "    total_reward = []\n",
    "    total_length = []\n",
    "    \n",
    "    gradBuffer = sess.run(tf.trainable_variables())\n",
    "    for ix, grad in enumerate(gradBuffer):\n",
    "        gradBuffer[ix] = grad * 0\n",
    "    \n",
    "    while i < total_episodes:\n",
    "        s = env.reset()\n",
    "        running_reward = 0\n",
    "        ep_history = []\n",
    "        \n",
    "        for j in range(max_ep):\n",
    "            # Sample action from our network\n",
    "            actions = sess.run(agent.output, feed_dict={agent.input:[s]})\n",
    "            a_idx = np.random.choice(range(len(actions[0])), p=actions[0])            \n",
    "            \n",
    "            s1, r, done, _ = env.step(a_idx)\n",
    "            ep_history.append([s, a_idx, r, s1])\n",
    "            s = s1\n",
    "            running_reward += r\n",
    "            \n",
    "            if done:\n",
    "                # Backpropagate rewards\n",
    "                ep_history = np.array(ep_history)\n",
    "                ep_history[:, 2] = discounted_rewards(ep_history[:, 2])\n",
    "                feed_dict = {\n",
    "                    agent.reward_holder: ep_history[:, 2],\n",
    "                    agent.action_holder: ep_history[:, 1],\n",
    "                    agent.input: np.vstack(ep_history[:, 0])\n",
    "                }\n",
    "                \n",
    "                gradients = sess.run(agent.gradients, feed_dict=feed_dict)\n",
    "                for idx, grad in enumerate(gradients):\n",
    "                    gradBuffer[idx] += grad\n",
    "                \n",
    "                if i % update_frequency == 0 and i > 0:\n",
    "                    feed_dict = dict(zip(agent.gradient_holders, gradBuffer))\n",
    "                    _ = sess.run(agent.update_batch, feed_dict=feed_dict)\n",
    "                    \n",
    "                    for idx, grad in enumerate(gradients):\n",
    "                        gradBuffer[idx] = 0\n",
    "                \n",
    "                total_reward.append(running_reward)\n",
    "                total_length.append(j)\n",
    "                break\n",
    "                \n",
    "        if i % 100 == 0:\n",
    "            print('Mean reward: ', np.mean(total_reward[-100:]))\n",
    "        i += 1\n",
    "                    \n",
    "    "
   ]
  },
  {
   "cell_type": "code",
   "execution_count": null,
   "metadata": {
    "collapsed": true
   },
   "outputs": [],
   "source": []
  },
  {
   "cell_type": "code",
   "execution_count": null,
   "metadata": {
    "collapsed": true
   },
   "outputs": [],
   "source": []
  }
 ],
 "metadata": {
  "kernelspec": {
   "display_name": "Python 3",
   "language": "python",
   "name": "python3"
  },
  "language_info": {
   "codemirror_mode": {
    "name": "ipython",
    "version": 3
   },
   "file_extension": ".py",
   "mimetype": "text/x-python",
   "name": "python",
   "nbconvert_exporter": "python",
   "pygments_lexer": "ipython3",
   "version": "3.5.2"
  }
 },
 "nbformat": 4,
 "nbformat_minor": 2
}

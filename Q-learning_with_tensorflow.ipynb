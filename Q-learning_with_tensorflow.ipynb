{
 "cells": [
  {
   "cell_type": "markdown",
   "metadata": {},
   "source": [
    "# Q-Learning with Tensorflow\n",
    "\n",
    "https://medium.com/emergent-future/simple-reinforcement-learning-with-tensorflow-part-0-q-learning-with-tables-and-neural-networks-d195264329d0"
   ]
  },
  {
   "cell_type": "code",
   "execution_count": 51,
   "metadata": {},
   "outputs": [],
   "source": [
    "import gym\n",
    "from gym import wrappers\n",
    "import numpy as np\n",
    "import random\n",
    "import tensorflow as tf\n",
    "%matplotlib inline\n",
    "import matplotlib.pyplot as plt"
   ]
  },
  {
   "cell_type": "code",
   "execution_count": 42,
   "metadata": {},
   "outputs": [
    {
     "name": "stderr",
     "output_type": "stream",
     "text": [
      "[2017-09-11 09:21:36,527] Making new env: FrozenLake-v0\n",
      "[2017-09-11 09:21:36,533] Clearing 46 monitor files from previous run (because force=True was provided)\n"
     ]
    }
   ],
   "source": [
    "env = gym.make('FrozenLake-v0')\n",
    "env = wrappers.Monitor(env, 'gym-recordings/q-learning-nn/frozenlake', force=True)"
   ]
  },
  {
   "cell_type": "code",
   "execution_count": 43,
   "metadata": {},
   "outputs": [],
   "source": [
    "env.unwrapped.timestep_limit = 100"
   ]
  },
  {
   "cell_type": "code",
   "execution_count": 44,
   "metadata": {
    "collapsed": true
   },
   "outputs": [],
   "source": [
    "tf.reset_default_graph()"
   ]
  },
  {
   "cell_type": "code",
   "execution_count": 45,
   "metadata": {
    "collapsed": true
   },
   "outputs": [],
   "source": [
    "learning_rate = 0.1\n",
    "\n",
    "inputs1 = tf.placeholder(shape=[1, env.observation_space.n], dtype=tf.float32)\n",
    "W = tf.Variable(tf.random_uniform([env.observation_space.n, env.action_space.n], 0, 0.01))\n",
    "Qout = tf.matmul(inputs1, W)\n",
    "predict = tf.argmax(Qout, 1)\n",
    "\n",
    "nextQ = tf.placeholder(shape=[1, env.action_space.n], dtype=tf.float32)\n",
    "loss = tf.reduce_sum(tf.square(nextQ - Qout))\n",
    "trainer = tf.train.GradientDescentOptimizer(learning_rate=learning_rate)\n",
    "updateModel = trainer.minimize(loss)"
   ]
  },
  {
   "cell_type": "markdown",
   "metadata": {},
   "source": [
    "## Train network"
   ]
  },
  {
   "cell_type": "code",
   "execution_count": 46,
   "metadata": {},
   "outputs": [
    {
     "name": "stderr",
     "output_type": "stream",
     "text": [
      "[2017-09-11 09:21:41,185] Starting new video recorder writing to /home/gartner/dev/learn-drl/gym-recordings/q-learning-nn/frozenlake/openaigym.video.3.15866.video000000.json\n",
      "[2017-09-11 09:21:41,194] Starting new video recorder writing to /home/gartner/dev/learn-drl/gym-recordings/q-learning-nn/frozenlake/openaigym.video.3.15866.video000001.json\n",
      "[2017-09-11 09:21:41,298] Starting new video recorder writing to /home/gartner/dev/learn-drl/gym-recordings/q-learning-nn/frozenlake/openaigym.video.3.15866.video000008.json\n",
      "[2017-09-11 09:21:41,409] Starting new video recorder writing to /home/gartner/dev/learn-drl/gym-recordings/q-learning-nn/frozenlake/openaigym.video.3.15866.video000027.json\n",
      "[2017-09-11 09:21:41,663] Starting new video recorder writing to /home/gartner/dev/learn-drl/gym-recordings/q-learning-nn/frozenlake/openaigym.video.3.15866.video000064.json\n",
      "[2017-09-11 09:21:42,110] Starting new video recorder writing to /home/gartner/dev/learn-drl/gym-recordings/q-learning-nn/frozenlake/openaigym.video.3.15866.video000125.json\n",
      "[2017-09-11 09:21:43,445] Starting new video recorder writing to /home/gartner/dev/learn-drl/gym-recordings/q-learning-nn/frozenlake/openaigym.video.3.15866.video000216.json\n",
      "[2017-09-11 09:21:47,014] Starting new video recorder writing to /home/gartner/dev/learn-drl/gym-recordings/q-learning-nn/frozenlake/openaigym.video.3.15866.video000343.json\n",
      "[2017-09-11 09:21:52,426] Starting new video recorder writing to /home/gartner/dev/learn-drl/gym-recordings/q-learning-nn/frozenlake/openaigym.video.3.15866.video000512.json\n",
      "[2017-09-11 09:21:58,791] Starting new video recorder writing to /home/gartner/dev/learn-drl/gym-recordings/q-learning-nn/frozenlake/openaigym.video.3.15866.video000729.json\n",
      "[2017-09-11 09:22:06,447] Starting new video recorder writing to /home/gartner/dev/learn-drl/gym-recordings/q-learning-nn/frozenlake/openaigym.video.3.15866.video001000.json\n"
     ]
    },
    {
     "name": "stdout",
     "output_type": "stream",
     "text": [
      "Percentage of successful episodes:  0.4525\n"
     ]
    }
   ],
   "source": [
    "init = tf.global_variables_initializer()\n",
    "\n",
    "y = 0.99\n",
    "e = 0.1\n",
    "num_episodes = 2000\n",
    "\n",
    "jList = []\n",
    "rList = []\n",
    "with tf.Session() as session:\n",
    "    session.run(init)\n",
    "    \n",
    "    for i in range(num_episodes):\n",
    "        s = env.reset()\n",
    "        rAll = 0\n",
    "        d = False\n",
    "        j = 0\n",
    "        \n",
    "        while j < 100:\n",
    "            j += 1\n",
    "            # Choose an action by greedily from the Q-network\n",
    "            a, allQ = session.run([predict, Qout], feed_dict={inputs1:np.identity(16)[s:s+1]})\n",
    "            \n",
    "            if np.random.rand(1) < e:\n",
    "                # explorations\n",
    "                a[0] = env.action_space.sample()\n",
    "            \n",
    "            # Get new state and reward \n",
    "            s1, r, d, _ = env.step(a[0])\n",
    "\n",
    "            # Obtain Q' throught feeding the new state through the network\n",
    "            Q1 = session.run(Qout, feed_dict={inputs1:np.identity(16)[s1:s1+1]})\n",
    "            \n",
    "            # Obtain maxQ' and set our target value for chosen action\n",
    "            maxQ1 = np.max(Q1)\n",
    "            targetQ = allQ\n",
    "            targetQ[0, a[0]] = r + y * maxQ1\n",
    "            \n",
    "            # Train our network using target and predicted Q values\n",
    "            _, W1 = session.run([updateModel, W], feed_dict={inputs1:np.identity(16)[s:s+1], nextQ:targetQ})\n",
    "            rAll += r\n",
    "            s = s1\n",
    "            \n",
    "            if d == True:\n",
    "                # Reduce change of random action as we train the model\n",
    "                e = 1. / ((i/50.) + 10.)\n",
    "                break\n",
    "            \n",
    "        jList.append(j)\n",
    "        rList.append(rAll)\n",
    "\n",
    "print('Percentage of successful episodes: ', float(sum(rList)) / num_episodes)"
   ]
  },
  {
   "cell_type": "code",
   "execution_count": 48,
   "metadata": {},
   "outputs": [
    {
     "name": "stderr",
     "output_type": "stream",
     "text": [
      "[2017-09-11 09:23:52,724] [FrozenLake-v0] Uploading 2000 episodes of training data\n",
      "[2017-09-11 09:23:54,945] [FrozenLake-v0] Uploading videos of 11 training episodes (1407 bytes)\n",
      "[2017-09-11 09:23:55,396] [FrozenLake-v0] Creating evaluation object from gym-recordings/q-learning-nn/frozenlake with learning curve and training video\n",
      "[2017-09-11 09:23:55,775] \n",
      "****************************************************\n",
      "You successfully uploaded your evaluation on FrozenLake-v0 to\n",
      "OpenAI Gym! You can find it at:\n",
      "\n",
      "    https://gym.openai.com/evaluations/eval_Tdyc7b8RGaWB6A78EAX3w\n",
      "\n",
      "****************************************************\n"
     ]
    }
   ],
   "source": [
    "env.close()\n",
    "#gym.upload('gym-recordings/q-learning-nn/frozenlake', api_key='')"
   ]
  },
  {
   "cell_type": "markdown",
   "metadata": {},
   "source": [
    "## Statistics"
   ]
  },
  {
   "cell_type": "code",
   "execution_count": 52,
   "metadata": {},
   "outputs": [
    {
     "data": {
      "text/plain": [
       "[<matplotlib.lines.Line2D at 0x7f56eb8e5080>]"
      ]
     },
     "execution_count": 52,
     "metadata": {},
     "output_type": "execute_result"
    },
    {
     "data": {
      "image/png": "[encoded data removed]",
      "text/plain": [
       "<matplotlib.figure.Figure at 0x7f56ee0906d8>"
      ]
     },
     "metadata": {},
     "output_type": "display_data"
    }
   ],
   "source": [
    "plt.plot(rList)"
   ]
  },
  {
   "cell_type": "code",
   "execution_count": 53,
   "metadata": {},
   "outputs": [
    {
     "data": {
      "text/plain": [
       "[<matplotlib.lines.Line2D at 0x7f56eb856eb8>]"
      ]
     },
     "execution_count": 53,
     "metadata": {},
     "output_type": "execute_result"
    },
    {
     "data": {
      "image/png": "[encoded data removed]",
      "text/plain": [
       "<matplotlib.figure.Figure at 0x7f56eb8f6fd0>"
      ]
     },
     "metadata": {},
     "output_type": "display_data"
    }
   ],
   "source": [
    "plt.plot(jList)"
   ]
  },
  {
   "cell_type": "code",
   "execution_count": null,
   "metadata": {
    "collapsed": true
   },
   "outputs": [],
   "source": []
  }
 ],
 "metadata": {
  "kernelspec": {
   "display_name": "Python 3",
   "language": "python",
   "name": "python3"
  },
  "language_info": {
   "codemirror_mode": {
    "name": "ipython",
    "version": 3
   },
   "file_extension": ".py",
   "mimetype": "text/x-python",
   "name": "python",
   "nbconvert_exporter": "python",
   "pygments_lexer": "ipython3",
   "version": "3.5.2"
  }
 },
 "nbformat": 4,
 "nbformat_minor": 2
}

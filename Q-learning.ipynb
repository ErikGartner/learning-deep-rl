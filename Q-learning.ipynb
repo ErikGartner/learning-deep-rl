{
 "cells": [
  {
   "cell_type": "markdown",
   "metadata": {},
   "source": [
    "# Simple Q-learning"
   ]
  },
  {
   "cell_type": "code",
   "execution_count": 1,
   "metadata": {
    "collapsed": true
   },
   "outputs": [],
   "source": [
    "import gym\n",
    "from gym import wrappers\n",
    "import numpy as np"
   ]
  },
  {
   "cell_type": "code",
   "execution_count": 2,
   "metadata": {},
   "outputs": [
    {
     "name": "stderr",
     "output_type": "stream",
     "text": [
      "[2017-09-10 16:11:02,145] Making new env: FrozenLake-v0\n",
      "[2017-09-10 16:11:05,489] Creating monitor directory /tmp/frozenlake_q-learning\n"
     ]
    }
   ],
   "source": [
    "env = gym.make('FrozenLake-v0')\n",
    "env = wrappers.Monitor(env, '/tmp/frozenlake_q-learning')\n",
    "env.spec.timestep_limit = 100"
   ]
  },
  {
   "cell_type": "code",
   "execution_count": 3,
   "metadata": {},
   "outputs": [
    {
     "name": "stderr",
     "output_type": "stream",
     "text": [
      "[2017-09-10 16:11:05,524] Starting new video recorder writing to /tmp/frozenlake_q-learning/openaigym.video.0.21902.video000000.json\n",
      "[2017-09-10 16:11:05,526] Starting new video recorder writing to /tmp/frozenlake_q-learning/openaigym.video.0.21902.video000001.json\n",
      "[2017-09-10 16:11:05,532] Starting new video recorder writing to /tmp/frozenlake_q-learning/openaigym.video.0.21902.video000008.json\n",
      "[2017-09-10 16:11:05,542] Starting new video recorder writing to /tmp/frozenlake_q-learning/openaigym.video.0.21902.video000027.json\n",
      "[2017-09-10 16:11:05,563] Starting new video recorder writing to /tmp/frozenlake_q-learning/openaigym.video.0.21902.video000064.json\n",
      "[2017-09-10 16:11:05,596] Starting new video recorder writing to /tmp/frozenlake_q-learning/openaigym.video.0.21902.video000125.json\n",
      "[2017-09-10 16:11:05,641] Starting new video recorder writing to /tmp/frozenlake_q-learning/openaigym.video.0.21902.video000216.json\n",
      "[2017-09-10 16:11:05,752] Starting new video recorder writing to /tmp/frozenlake_q-learning/openaigym.video.0.21902.video000343.json\n",
      "[2017-09-10 16:11:05,939] Starting new video recorder writing to /tmp/frozenlake_q-learning/openaigym.video.0.21902.video000512.json\n",
      "[2017-09-10 16:11:06,437] Starting new video recorder writing to /tmp/frozenlake_q-learning/openaigym.video.0.21902.video000729.json\n",
      "[2017-09-10 16:11:07,059] Starting new video recorder writing to /tmp/frozenlake_q-learning/openaigym.video.0.21902.video001000.json\n"
     ]
    }
   ],
   "source": [
    "Q = np.zeros([env.observation_space.n, env.action_space.n])\n",
    "lr = 0.8 # learning rate\n",
    "y = 0.95 # discount\n",
    "num_episodes = 2000\n",
    "\n",
    "rewards = [] # list containing total rewards and steps per episode\n",
    "for i in range(num_episodes):\n",
    "    # Reset environment and get observation\n",
    "    s = env.reset()\n",
    "    rAll = 0\n",
    "    d = False\n",
    "    j = 0\n",
    "    \n",
    "    while j < 105:       \n",
    "        j += 1\n",
    "        \n",
    "        # Choose and action by greedily (with noise) picking from Q table\n",
    "        a = np.argmax(Q[s,:] + np.random.randn(1, env.action_space.n) * (1 / (i+1)))\n",
    "        s1, r, d, _ = env.step(a)\n",
    "        \n",
    "        # Update Q-table with new knowledge\n",
    "        Q[s, a] = Q[s, a] + lr * (r + y * np.max(Q[s1,:]) - Q[s, a])\n",
    "        rAll += r\n",
    "        s = s1\n",
    "        if d == True:\n",
    "            break\n",
    "    rewards.append(rAll)"
   ]
  },
  {
   "cell_type": "code",
   "execution_count": 4,
   "metadata": {},
   "outputs": [
    {
     "name": "stdout",
     "output_type": "stream",
     "text": [
      "Score over time: 0.451\n"
     ]
    }
   ],
   "source": [
    "print(\"Score over time: \" +  str(float(sum(rewards))/num_episodes))"
   ]
  },
  {
   "cell_type": "code",
   "execution_count": 5,
   "metadata": {},
   "outputs": [
    {
     "name": "stdout",
     "output_type": "stream",
     "text": [
      "Final Q-Table Values [[  9.71010236e-02   7.86331069e-03   7.60328486e-03   6.36374254e-03]\n",
      " [  1.31156676e-04   1.20741365e-03   2.58309539e-04   8.15404608e-02]\n",
      " [  1.24982103e-03   8.97638422e-02   9.30770097e-03   3.04034533e-03]\n",
      " [  7.74912670e-04   2.47262227e-03   1.21626153e-04   5.23123361e-02]\n",
      " [  1.47224938e-01   1.16966173e-04   1.44886674e-03   1.16346300e-03]\n",
      " [  0.00000000e+00   0.00000000e+00   0.00000000e+00   0.00000000e+00]\n",
      " [  3.10872124e-04   5.67266036e-06   1.67405625e-01   8.73992282e-05]\n",
      " [  0.00000000e+00   0.00000000e+00   0.00000000e+00   0.00000000e+00]\n",
      " [  1.89044922e-05   3.87305393e-04   8.94174865e-04   9.41439259e-02]\n",
      " [  1.49642717e-03   5.72485364e-02   3.87260942e-03   1.87062697e-03]\n",
      " [  5.53201529e-02   0.00000000e+00   6.69974510e-05   0.00000000e+00]\n",
      " [  0.00000000e+00   0.00000000e+00   0.00000000e+00   0.00000000e+00]\n",
      " [  0.00000000e+00   0.00000000e+00   0.00000000e+00   0.00000000e+00]\n",
      " [  0.00000000e+00   0.00000000e+00   1.71069871e-01   0.00000000e+00]\n",
      " [  0.00000000e+00   0.00000000e+00   0.00000000e+00   3.34940696e-01]\n",
      " [  0.00000000e+00   0.00000000e+00   0.00000000e+00   0.00000000e+00]]\n"
     ]
    }
   ],
   "source": [
    "print(\"Final Q-Table Values\", Q)"
   ]
  },
  {
   "cell_type": "code",
   "execution_count": 6,
   "metadata": {},
   "outputs": [
    {
     "name": "stderr",
     "output_type": "stream",
     "text": [
      "[2017-09-10 16:11:09,797] Finished writing results. You can upload them to the scoreboard via gym.upload('/tmp/frozenlake_q-learning')\n",
      "[2017-09-10 16:11:09,802] [FrozenLake-v0] Uploading 2000 episodes of training data\n",
      "[2017-09-10 16:11:14,040] [FrozenLake-v0] Uploading videos of 11 training episodes (1387 bytes)\n",
      "[2017-09-10 16:11:14,897] [FrozenLake-v0] Creating evaluation object from /tmp/frozenlake_q-learning with learning curve and training video\n",
      "[2017-09-10 16:11:15,306] \n",
      "****************************************************\n",
      "You successfully uploaded your evaluation on FrozenLake-v0 to\n",
      "OpenAI Gym! You can find it at:\n",
      "\n",
      "    https://gym.openai.com/evaluations/eval_KIgrRxuTTfypRt63SIt2Aw\n",
      "\n",
      "****************************************************\n"
     ]
    }
   ],
   "source": [
    "env.close()\n",
    "# gym.upload('/tmp/frozenlake_q-learning', api_key='sk_BE89YDjqQzW6nN7FAKcK9w')"
   ]
  },
  {
   "cell_type": "markdown",
   "metadata": {},
   "source": [
    "# Q-Network Learning"
   ]
  },
  {
   "cell_type": "code",
   "execution_count": 1,
   "metadata": {},
   "outputs": [],
   "source": [
    "import gym\n",
    "from gym import wrappers\n",
    "import numpy as np\n",
    "import random\n",
    "import tensorflow as tf\n",
    "import matplotlib.pyplot as plt\n",
    "\n",
    "%matplotlib inline"
   ]
  },
  {
   "cell_type": "code",
   "execution_count": 3,
   "metadata": {},
   "outputs": [
    {
     "name": "stderr",
     "output_type": "stream",
     "text": [
      "[2017-09-10 16:23:45,183] Making new env: FrozenLake-v0\n",
      "[2017-09-10 16:23:45,187] Creating monitor directory /tmp/frozenlake_network-q-learning\n"
     ]
    }
   ],
   "source": [
    "env = gym.make('FrozenLake-v0')\n",
    "env = wrappers.Monitor(env, '/tmp/frozenlake_network-q-learning')\n",
    "env.spec.timestep_limit = 100"
   ]
  },
  {
   "cell_type": "code",
   "execution_count": 4,
   "metadata": {
    "collapsed": true
   },
   "outputs": [],
   "source": [
    "tf.reset_default_graph()"
   ]
  },
  {
   "cell_type": "code",
   "execution_count": 7,
   "metadata": {
    "collapsed": true
   },
   "outputs": [],
   "source": [
    "# Feed-forward part of the network\n",
    "inputs1 = tf.placeholder(shape=[1,16], dtype=tf.float32)\n",
    "W = tf.Variable(tf.random_uniform([16, 4], 0, 0.01))\n",
    "Qout = tf.matmul(inputs1, W)\n",
    "predict = tf.argmax(Qout, 1)\n",
    "\n",
    "# Back propagation using loss that is squared error\n",
    "nextQ = tf.placeholder(shape=[1, 4], dtype=tf.float32)\n",
    "loss = tf.reduce_sum(tf.square(nextQ - Qout))\n",
    "trainer = tf.train.GradientDescentOptimizer(learning_rate=0.1)\n",
    "updateModel = trainer.minimize(loss)"
   ]
  },
  {
   "cell_type": "markdown",
   "metadata": {},
   "source": [
    "Train the network"
   ]
  },
  {
   "cell_type": "code",
   "execution_count": null,
   "metadata": {
    "collapsed": true
   },
   "outputs": [],
   "source": [
    "init = tf.initialize_all_variables()\n",
    "\n",
    "# Set params\n",
    "y = 0.99 # discount\n",
    "e = 0.1\n",
    "num_episodes\n",
    "\n"
   ]
  }
 ],
 "metadata": {
  "kernelspec": {
   "display_name": "Python 3",
   "language": "python",
   "name": "python3"
  },
  "language_info": {
   "codemirror_mode": {
    "name": "ipython",
    "version": 3
   },
   "file_extension": ".py",
   "mimetype": "text/x-python",
   "name": "python",
   "nbconvert_exporter": "python",
   "pygments_lexer": "ipython3",
   "version": "3.5.3"
  }
 },
 "nbformat": 4,
 "nbformat_minor": 2
}
